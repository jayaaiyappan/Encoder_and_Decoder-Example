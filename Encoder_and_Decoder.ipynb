{
 "cells": [
  {
   "cell_type": "markdown",
   "metadata": {
    "colab_type": "text",
    "id": "view-in-github"
   },
   "source": [
    "<a href=\"https://colab.research.google.com/github/jayaaiyappan/Encoder_and_Decoder-Example/blob/master/Encoder_and_Decoder.ipynb\" target=\"_parent\"><img src=\"https://colab.research.google.com/assets/colab-badge.svg\" alt=\"Open In Colab\"/></a>"
   ]
  },
  {
   "cell_type": "code",
   "execution_count": 180,
   "metadata": {
    "colab": {
     "base_uri": "https://localhost:8080/",
     "height": 34
    },
    "colab_type": "code",
    "id": "Mhdy92i25lm3",
    "outputId": "da52a46d-01ee-45cc-e274-cbee34931154"
   },
   "outputs": [
    {
     "name": "stdout",
     "output_type": "stream",
     "text": [
      "Drive already mounted at /content/gdrive; to attempt to forcibly remount, call drive.mount(\"/content/gdrive\", force_remount=True).\n"
     ]
    }
   ],
   "source": [
    "from google.colab import drive\n",
    "drive.mount('/content/gdrive')"
   ]
  },
  {
   "cell_type": "code",
   "execution_count": 193,
   "metadata": {
    "colab": {
     "base_uri": "https://localhost:8080/",
     "height": 359
    },
    "colab_type": "code",
    "id": "oq16IrEw5vAh",
    "outputId": "5e261181-0a86-4e50-9381-f353dc9adc64"
   },
   "outputs": [
    {
     "data": {
      "text/html": [
       "<div>\n",
       "<style scoped>\n",
       "    .dataframe tbody tr th:only-of-type {\n",
       "        vertical-align: middle;\n",
       "    }\n",
       "\n",
       "    .dataframe tbody tr th {\n",
       "        vertical-align: top;\n",
       "    }\n",
       "\n",
       "    .dataframe thead th {\n",
       "        text-align: right;\n",
       "    }\n",
       "</style>\n",
       "<table border=\"1\" class=\"dataframe\">\n",
       "  <thead>\n",
       "    <tr style=\"text-align: right;\">\n",
       "      <th></th>\n",
       "      <th>LB</th>\n",
       "      <th>AC</th>\n",
       "      <th>FM</th>\n",
       "      <th>UC</th>\n",
       "      <th>ASTV</th>\n",
       "      <th>MSTV</th>\n",
       "      <th>ALTV</th>\n",
       "      <th>MLTV</th>\n",
       "      <th>DL</th>\n",
       "      <th>DS</th>\n",
       "      <th>DP</th>\n",
       "      <th>DR</th>\n",
       "      <th>Width</th>\n",
       "      <th>Min</th>\n",
       "      <th>Max</th>\n",
       "      <th>Nmax</th>\n",
       "      <th>Nzeros</th>\n",
       "      <th>Mode</th>\n",
       "      <th>Mean</th>\n",
       "      <th>Median</th>\n",
       "      <th>Variance</th>\n",
       "      <th>Tendency</th>\n",
       "      <th>NSP</th>\n",
       "    </tr>\n",
       "  </thead>\n",
       "  <tbody>\n",
       "    <tr>\n",
       "      <th>0</th>\n",
       "      <td>120.0</td>\n",
       "      <td>0.0</td>\n",
       "      <td>0.0</td>\n",
       "      <td>0.0</td>\n",
       "      <td>73.0</td>\n",
       "      <td>0.5</td>\n",
       "      <td>43.0</td>\n",
       "      <td>2.4</td>\n",
       "      <td>0.0</td>\n",
       "      <td>0.0</td>\n",
       "      <td>0.0</td>\n",
       "      <td>0.0</td>\n",
       "      <td>64.0</td>\n",
       "      <td>62.0</td>\n",
       "      <td>126.0</td>\n",
       "      <td>2.0</td>\n",
       "      <td>0.0</td>\n",
       "      <td>120.0</td>\n",
       "      <td>137.0</td>\n",
       "      <td>121.0</td>\n",
       "      <td>73.0</td>\n",
       "      <td>1.0</td>\n",
       "      <td>2.0</td>\n",
       "    </tr>\n",
       "    <tr>\n",
       "      <th>1</th>\n",
       "      <td>132.0</td>\n",
       "      <td>4.0</td>\n",
       "      <td>0.0</td>\n",
       "      <td>4.0</td>\n",
       "      <td>17.0</td>\n",
       "      <td>2.1</td>\n",
       "      <td>0.0</td>\n",
       "      <td>10.4</td>\n",
       "      <td>2.0</td>\n",
       "      <td>0.0</td>\n",
       "      <td>0.0</td>\n",
       "      <td>0.0</td>\n",
       "      <td>130.0</td>\n",
       "      <td>68.0</td>\n",
       "      <td>198.0</td>\n",
       "      <td>6.0</td>\n",
       "      <td>1.0</td>\n",
       "      <td>141.0</td>\n",
       "      <td>136.0</td>\n",
       "      <td>140.0</td>\n",
       "      <td>12.0</td>\n",
       "      <td>0.0</td>\n",
       "      <td>1.0</td>\n",
       "    </tr>\n",
       "    <tr>\n",
       "      <th>2</th>\n",
       "      <td>133.0</td>\n",
       "      <td>2.0</td>\n",
       "      <td>0.0</td>\n",
       "      <td>5.0</td>\n",
       "      <td>16.0</td>\n",
       "      <td>2.1</td>\n",
       "      <td>0.0</td>\n",
       "      <td>13.4</td>\n",
       "      <td>2.0</td>\n",
       "      <td>0.0</td>\n",
       "      <td>0.0</td>\n",
       "      <td>0.0</td>\n",
       "      <td>130.0</td>\n",
       "      <td>68.0</td>\n",
       "      <td>198.0</td>\n",
       "      <td>5.0</td>\n",
       "      <td>1.0</td>\n",
       "      <td>141.0</td>\n",
       "      <td>135.0</td>\n",
       "      <td>138.0</td>\n",
       "      <td>13.0</td>\n",
       "      <td>0.0</td>\n",
       "      <td>1.0</td>\n",
       "    </tr>\n",
       "    <tr>\n",
       "      <th>3</th>\n",
       "      <td>134.0</td>\n",
       "      <td>2.0</td>\n",
       "      <td>0.0</td>\n",
       "      <td>6.0</td>\n",
       "      <td>16.0</td>\n",
       "      <td>2.4</td>\n",
       "      <td>0.0</td>\n",
       "      <td>23.0</td>\n",
       "      <td>2.0</td>\n",
       "      <td>0.0</td>\n",
       "      <td>0.0</td>\n",
       "      <td>0.0</td>\n",
       "      <td>117.0</td>\n",
       "      <td>53.0</td>\n",
       "      <td>170.0</td>\n",
       "      <td>11.0</td>\n",
       "      <td>0.0</td>\n",
       "      <td>137.0</td>\n",
       "      <td>134.0</td>\n",
       "      <td>137.0</td>\n",
       "      <td>13.0</td>\n",
       "      <td>1.0</td>\n",
       "      <td>1.0</td>\n",
       "    </tr>\n",
       "    <tr>\n",
       "      <th>4</th>\n",
       "      <td>132.0</td>\n",
       "      <td>4.0</td>\n",
       "      <td>0.0</td>\n",
       "      <td>5.0</td>\n",
       "      <td>16.0</td>\n",
       "      <td>2.4</td>\n",
       "      <td>0.0</td>\n",
       "      <td>19.9</td>\n",
       "      <td>0.0</td>\n",
       "      <td>0.0</td>\n",
       "      <td>0.0</td>\n",
       "      <td>0.0</td>\n",
       "      <td>117.0</td>\n",
       "      <td>53.0</td>\n",
       "      <td>170.0</td>\n",
       "      <td>9.0</td>\n",
       "      <td>0.0</td>\n",
       "      <td>137.0</td>\n",
       "      <td>136.0</td>\n",
       "      <td>138.0</td>\n",
       "      <td>11.0</td>\n",
       "      <td>1.0</td>\n",
       "      <td>1.0</td>\n",
       "    </tr>\n",
       "    <tr>\n",
       "      <th>5</th>\n",
       "      <td>134.0</td>\n",
       "      <td>1.0</td>\n",
       "      <td>0.0</td>\n",
       "      <td>10.0</td>\n",
       "      <td>26.0</td>\n",
       "      <td>5.9</td>\n",
       "      <td>0.0</td>\n",
       "      <td>0.0</td>\n",
       "      <td>9.0</td>\n",
       "      <td>0.0</td>\n",
       "      <td>2.0</td>\n",
       "      <td>0.0</td>\n",
       "      <td>150.0</td>\n",
       "      <td>50.0</td>\n",
       "      <td>200.0</td>\n",
       "      <td>5.0</td>\n",
       "      <td>3.0</td>\n",
       "      <td>76.0</td>\n",
       "      <td>107.0</td>\n",
       "      <td>107.0</td>\n",
       "      <td>170.0</td>\n",
       "      <td>0.0</td>\n",
       "      <td>3.0</td>\n",
       "    </tr>\n",
       "    <tr>\n",
       "      <th>6</th>\n",
       "      <td>134.0</td>\n",
       "      <td>1.0</td>\n",
       "      <td>0.0</td>\n",
       "      <td>9.0</td>\n",
       "      <td>29.0</td>\n",
       "      <td>6.3</td>\n",
       "      <td>0.0</td>\n",
       "      <td>0.0</td>\n",
       "      <td>6.0</td>\n",
       "      <td>0.0</td>\n",
       "      <td>2.0</td>\n",
       "      <td>0.0</td>\n",
       "      <td>150.0</td>\n",
       "      <td>50.0</td>\n",
       "      <td>200.0</td>\n",
       "      <td>6.0</td>\n",
       "      <td>3.0</td>\n",
       "      <td>71.0</td>\n",
       "      <td>107.0</td>\n",
       "      <td>106.0</td>\n",
       "      <td>215.0</td>\n",
       "      <td>0.0</td>\n",
       "      <td>3.0</td>\n",
       "    </tr>\n",
       "    <tr>\n",
       "      <th>7</th>\n",
       "      <td>122.0</td>\n",
       "      <td>0.0</td>\n",
       "      <td>0.0</td>\n",
       "      <td>0.0</td>\n",
       "      <td>83.0</td>\n",
       "      <td>0.5</td>\n",
       "      <td>6.0</td>\n",
       "      <td>15.6</td>\n",
       "      <td>0.0</td>\n",
       "      <td>0.0</td>\n",
       "      <td>0.0</td>\n",
       "      <td>0.0</td>\n",
       "      <td>68.0</td>\n",
       "      <td>62.0</td>\n",
       "      <td>130.0</td>\n",
       "      <td>0.0</td>\n",
       "      <td>0.0</td>\n",
       "      <td>122.0</td>\n",
       "      <td>122.0</td>\n",
       "      <td>123.0</td>\n",
       "      <td>3.0</td>\n",
       "      <td>1.0</td>\n",
       "      <td>3.0</td>\n",
       "    </tr>\n",
       "    <tr>\n",
       "      <th>8</th>\n",
       "      <td>122.0</td>\n",
       "      <td>0.0</td>\n",
       "      <td>0.0</td>\n",
       "      <td>1.0</td>\n",
       "      <td>84.0</td>\n",
       "      <td>0.5</td>\n",
       "      <td>5.0</td>\n",
       "      <td>13.6</td>\n",
       "      <td>0.0</td>\n",
       "      <td>0.0</td>\n",
       "      <td>0.0</td>\n",
       "      <td>0.0</td>\n",
       "      <td>68.0</td>\n",
       "      <td>62.0</td>\n",
       "      <td>130.0</td>\n",
       "      <td>0.0</td>\n",
       "      <td>0.0</td>\n",
       "      <td>122.0</td>\n",
       "      <td>122.0</td>\n",
       "      <td>123.0</td>\n",
       "      <td>3.0</td>\n",
       "      <td>1.0</td>\n",
       "      <td>3.0</td>\n",
       "    </tr>\n",
       "    <tr>\n",
       "      <th>9</th>\n",
       "      <td>122.0</td>\n",
       "      <td>0.0</td>\n",
       "      <td>0.0</td>\n",
       "      <td>3.0</td>\n",
       "      <td>86.0</td>\n",
       "      <td>0.3</td>\n",
       "      <td>6.0</td>\n",
       "      <td>10.6</td>\n",
       "      <td>0.0</td>\n",
       "      <td>0.0</td>\n",
       "      <td>0.0</td>\n",
       "      <td>0.0</td>\n",
       "      <td>68.0</td>\n",
       "      <td>62.0</td>\n",
       "      <td>130.0</td>\n",
       "      <td>1.0</td>\n",
       "      <td>0.0</td>\n",
       "      <td>122.0</td>\n",
       "      <td>122.0</td>\n",
       "      <td>123.0</td>\n",
       "      <td>1.0</td>\n",
       "      <td>1.0</td>\n",
       "      <td>3.0</td>\n",
       "    </tr>\n",
       "  </tbody>\n",
       "</table>\n",
       "</div>"
      ],
      "text/plain": [
       "      LB   AC   FM    UC  ASTV  ...   Mean  Median  Variance  Tendency  NSP\n",
       "0  120.0  0.0  0.0   0.0  73.0  ...  137.0   121.0      73.0       1.0  2.0\n",
       "1  132.0  4.0  0.0   4.0  17.0  ...  136.0   140.0      12.0       0.0  1.0\n",
       "2  133.0  2.0  0.0   5.0  16.0  ...  135.0   138.0      13.0       0.0  1.0\n",
       "3  134.0  2.0  0.0   6.0  16.0  ...  134.0   137.0      13.0       1.0  1.0\n",
       "4  132.0  4.0  0.0   5.0  16.0  ...  136.0   138.0      11.0       1.0  1.0\n",
       "5  134.0  1.0  0.0  10.0  26.0  ...  107.0   107.0     170.0       0.0  3.0\n",
       "6  134.0  1.0  0.0   9.0  29.0  ...  107.0   106.0     215.0       0.0  3.0\n",
       "7  122.0  0.0  0.0   0.0  83.0  ...  122.0   123.0       3.0       1.0  3.0\n",
       "8  122.0  0.0  0.0   1.0  84.0  ...  122.0   123.0       3.0       1.0  3.0\n",
       "9  122.0  0.0  0.0   3.0  86.0  ...  122.0   123.0       1.0       1.0  3.0\n",
       "\n",
       "[10 rows x 23 columns]"
      ]
     },
     "execution_count": 193,
     "metadata": {
      "tags": []
     },
     "output_type": "execute_result"
    }
   ],
   "source": [
    "import pandas as pd\n",
    "ctg = pd.read_csv('/content/gdrive/My Drive/data/CTG.csv')\n",
    "#ctg = pd.read_csv('/content/gdrive/My Drive/data/creditcard.csv')\n",
    "# show first 10 records\n",
    "ctg.head(10)"
   ]
  },
  {
   "cell_type": "code",
   "execution_count": 194,
   "metadata": {
    "colab": {
     "base_uri": "https://localhost:8080/",
     "height": 34
    },
    "colab_type": "code",
    "id": "3orzsjfZb8Pn",
    "outputId": "63c63063-dc10-488d-a64a-2d55fb787d48"
   },
   "outputs": [
    {
     "data": {
      "text/plain": [
       "(1831, 23)"
      ]
     },
     "execution_count": 194,
     "metadata": {
      "tags": []
     },
     "output_type": "execute_result"
    }
   ],
   "source": [
    "ctg=ctg.dropna()\n",
    "ctg=ctg.drop(ctg[ctg['NSP']==2].index)\n",
    "\n",
    "ctg.shape"
   ]
  },
  {
   "cell_type": "code",
   "execution_count": 195,
   "metadata": {
    "colab": {
     "base_uri": "https://localhost:8080/",
     "height": 68
    },
    "colab_type": "code",
    "id": "IfdWlpGhl_d8",
    "outputId": "79eea690-a50d-4613-c4e4-612eb12b1335"
   },
   "outputs": [
    {
     "data": {
      "text/plain": [
       "1.0    1655\n",
       "3.0     176\n",
       "Name: NSP, dtype: int64"
      ]
     },
     "execution_count": 195,
     "metadata": {
      "tags": []
     },
     "output_type": "execute_result"
    }
   ],
   "source": [
    "pd.value_counts(ctg['NSP'])"
   ]
  },
  {
   "cell_type": "code",
   "execution_count": 196,
   "metadata": {
    "colab": {
     "base_uri": "https://localhost:8080/",
     "height": 34
    },
    "colab_type": "code",
    "id": "HJYndE-o-SQc",
    "outputId": "9426ffeb-7b70-4273-c521-5e0c3a264649"
   },
   "outputs": [
    {
     "data": {
      "text/plain": [
       "((1155, 22), (550, 22))"
      ]
     },
     "execution_count": 196,
     "metadata": {
      "tags": []
     },
     "output_type": "execute_result"
    }
   ],
   "source": [
    "#Peforming the scaling\n",
    "from sklearn.model_selection import train_test_split\n",
    "\n",
    "train_x, test_x = train_test_split(ctg, test_size=0.3, random_state=42)\n",
    "train_x = train_x[train_x.NSP == 1] #where normal transactions\n",
    "train_x = train_x.drop(['NSP'], axis=1) #drop the class column\n",
    "\n",
    "test_y = test_x['NSP'] #save the class column for the test set\n",
    "test_x = test_x.drop(['NSP'], axis=1) #drop the class column\n",
    "\n",
    "train_x = train_x.values #transform to ndarray\n",
    "test_x = test_x.values\n",
    "train_x.shape, test_x.shape"
   ]
  },
  {
   "cell_type": "code",
   "execution_count": 232,
   "metadata": {
    "colab": {
     "base_uri": "https://localhost:8080/",
     "height": 255
    },
    "colab_type": "code",
    "id": "OJu1-C1qAB6j",
    "outputId": "cdeb1bce-bfd5-4dbb-d86d-b1f8e8b1be8a"
   },
   "outputs": [
    {
     "name": "stdout",
     "output_type": "stream",
     "text": [
      "Model: \"model_36\"\n",
      "_________________________________________________________________\n",
      "Layer (type)                 Output Shape              Param #   \n",
      "=================================================================\n",
      "input_39 (InputLayer)        [(None, 22)]              0         \n",
      "_________________________________________________________________\n",
      "dense_117 (Dense)            (None, 12)                276       \n",
      "_________________________________________________________________\n",
      "dense_118 (Dense)            (None, 22)                286       \n",
      "=================================================================\n",
      "Total params: 562\n",
      "Trainable params: 562\n",
      "Non-trainable params: 0\n",
      "_________________________________________________________________\n"
     ]
    }
   ],
   "source": [
    "from tensorflow.keras.models import Model\n",
    "from tensorflow.keras.layers import Dense, Input\n",
    "encoding_dim=12\n",
    "input_dim=train_x.shape[1]\n",
    "inputArray=Input(shape=(input_dim,))\n",
    "encoded=Dense(encoding_dim, activation='tanh')(inputArray)\n",
    "decoded=Dense(input_dim, activation='softmax')(encoded)\n",
    "autoencoder=Model(inputArray, decoded)\n",
    "autoencoder.summary()"
   ]
  },
  {
   "cell_type": "code",
   "execution_count": 233,
   "metadata": {
    "colab": {
     "base_uri": "https://localhost:8080/",
     "height": 748
    },
    "colab_type": "code",
    "id": "BLnX15kWAgJw",
    "outputId": "55096d93-f8d1-4d29-edb6-acd95ae8339b"
   },
   "outputs": [
    {
     "name": "stdout",
     "output_type": "stream",
     "text": [
      "Epoch 1/20\n",
      "37/37 [==============================] - 0s 4ms/step - loss: 5513.7329 - accuracy: 0.7628 - val_loss: 5564.3301 - val_accuracy: 0.9382\n",
      "Epoch 2/20\n",
      "37/37 [==============================] - 0s 3ms/step - loss: 5511.0703 - accuracy: 0.9706 - val_loss: 5562.3257 - val_accuracy: 0.9745\n",
      "Epoch 3/20\n",
      "37/37 [==============================] - 0s 3ms/step - loss: 5509.4697 - accuracy: 0.9887 - val_loss: 5561.1592 - val_accuracy: 0.9836\n",
      "Epoch 4/20\n",
      "37/37 [==============================] - 0s 3ms/step - loss: 5508.5156 - accuracy: 0.9905 - val_loss: 5560.3237 - val_accuracy: 0.9855\n",
      "Epoch 5/20\n",
      "37/37 [==============================] - 0s 3ms/step - loss: 5507.6562 - accuracy: 0.9931 - val_loss: 5559.4683 - val_accuracy: 0.9891\n",
      "Epoch 6/20\n",
      "37/37 [==============================] - 0s 2ms/step - loss: 5506.9458 - accuracy: 0.9931 - val_loss: 5558.9214 - val_accuracy: 0.9891\n",
      "Epoch 7/20\n",
      "37/37 [==============================] - 0s 3ms/step - loss: 5506.5400 - accuracy: 0.9931 - val_loss: 5558.6279 - val_accuracy: 0.9891\n",
      "Epoch 8/20\n",
      "37/37 [==============================] - 0s 2ms/step - loss: 5506.3301 - accuracy: 0.9931 - val_loss: 5558.4849 - val_accuracy: 0.9891\n",
      "Epoch 9/20\n",
      "37/37 [==============================] - 0s 3ms/step - loss: 5506.2290 - accuracy: 0.9931 - val_loss: 5558.4116 - val_accuracy: 0.9891\n",
      "Epoch 10/20\n",
      "37/37 [==============================] - 0s 3ms/step - loss: 5506.1802 - accuracy: 0.9931 - val_loss: 5558.3770 - val_accuracy: 0.9891\n",
      "Epoch 11/20\n",
      "37/37 [==============================] - 0s 2ms/step - loss: 5506.1582 - accuracy: 0.9931 - val_loss: 5558.3599 - val_accuracy: 0.9891\n",
      "Epoch 12/20\n",
      "37/37 [==============================] - 0s 2ms/step - loss: 5506.1455 - accuracy: 0.9931 - val_loss: 5558.3511 - val_accuracy: 0.9891\n",
      "Epoch 13/20\n",
      "37/37 [==============================] - 0s 2ms/step - loss: 5506.1416 - accuracy: 0.9931 - val_loss: 5558.3462 - val_accuracy: 0.9891\n",
      "Epoch 14/20\n",
      "37/37 [==============================] - 0s 2ms/step - loss: 5506.1392 - accuracy: 0.9931 - val_loss: 5558.3442 - val_accuracy: 0.9891\n",
      "Epoch 15/20\n",
      "37/37 [==============================] - 0s 3ms/step - loss: 5506.1367 - accuracy: 0.9931 - val_loss: 5558.3428 - val_accuracy: 0.9891\n",
      "Epoch 16/20\n",
      "37/37 [==============================] - 0s 2ms/step - loss: 5506.1372 - accuracy: 0.9931 - val_loss: 5558.3423 - val_accuracy: 0.9891\n",
      "Epoch 17/20\n",
      "37/37 [==============================] - 0s 2ms/step - loss: 5506.1362 - accuracy: 0.9931 - val_loss: 5558.3418 - val_accuracy: 0.9891\n",
      "Epoch 18/20\n",
      "37/37 [==============================] - 0s 2ms/step - loss: 5506.1362 - accuracy: 0.9931 - val_loss: 5558.3413 - val_accuracy: 0.9891\n",
      "Epoch 19/20\n",
      "37/37 [==============================] - 0s 2ms/step - loss: 5506.1362 - accuracy: 0.9931 - val_loss: 5558.3413 - val_accuracy: 0.9891\n",
      "Epoch 20/20\n",
      "37/37 [==============================] - 0s 2ms/step - loss: 5506.1362 - accuracy: 0.9931 - val_loss: 5558.3413 - val_accuracy: 0.9891\n",
      "18/18 [==============================] - 0s 1ms/step - loss: 5558.3413 - accuracy: 0.9891\n",
      "Test loss: 5558.34130859375\n",
      "Accuracy: 0.9890909194946289\n"
     ]
    }
   ],
   "source": [
    "from tensorflow.keras.optimizers import RMSprop\n",
    "autoencoder.compile(optimizer=RMSprop(),\n",
    "                    loss='mean_squared_error',\n",
    "                    metrics=['accuracy'])\n",
    "\n",
    "batch_size=32\n",
    "epochs=20\n",
    "history=autoencoder.fit(train_x,train_x,batch_size=batch_size,epochs=epochs,verbose=1,shuffle=True,\n",
    "                        validation_data=(test_x,test_x))\n",
    "\n",
    "score=autoencoder.evaluate(test_x, test_x, verbose=1)\n",
    "print('Test loss:', score[0])\n",
    "print('Accuracy:', score[1])"
   ]
  },
  {
   "cell_type": "code",
   "execution_count": 234,
   "metadata": {
    "colab": {
     "base_uri": "https://localhost:8080/",
     "height": 297
    },
    "colab_type": "code",
    "id": "trzhF8LFc0ej",
    "outputId": "e976069b-2b6e-4f29-8442-ff604186950d"
   },
   "outputs": [
    {
     "data": {
      "text/html": [
       "<div>\n",
       "<style scoped>\n",
       "    .dataframe tbody tr th:only-of-type {\n",
       "        vertical-align: middle;\n",
       "    }\n",
       "\n",
       "    .dataframe tbody tr th {\n",
       "        vertical-align: top;\n",
       "    }\n",
       "\n",
       "    .dataframe thead th {\n",
       "        text-align: right;\n",
       "    }\n",
       "</style>\n",
       "<table border=\"1\" class=\"dataframe\">\n",
       "  <thead>\n",
       "    <tr style=\"text-align: right;\">\n",
       "      <th></th>\n",
       "      <th>Reconstruction_error</th>\n",
       "      <th>True_class</th>\n",
       "    </tr>\n",
       "  </thead>\n",
       "  <tbody>\n",
       "    <tr>\n",
       "      <th>count</th>\n",
       "      <td>550.000000</td>\n",
       "      <td>550.000000</td>\n",
       "    </tr>\n",
       "    <tr>\n",
       "      <th>mean</th>\n",
       "      <td>5558.341198</td>\n",
       "      <td>1.181818</td>\n",
       "    </tr>\n",
       "    <tr>\n",
       "      <th>std</th>\n",
       "      <td>1291.008263</td>\n",
       "      <td>0.575483</td>\n",
       "    </tr>\n",
       "    <tr>\n",
       "      <th>min</th>\n",
       "      <td>3475.825925</td>\n",
       "      <td>1.000000</td>\n",
       "    </tr>\n",
       "    <tr>\n",
       "      <th>25%</th>\n",
       "      <td>4794.759911</td>\n",
       "      <td>1.000000</td>\n",
       "    </tr>\n",
       "    <tr>\n",
       "      <th>50%</th>\n",
       "      <td>5474.332072</td>\n",
       "      <td>1.000000</td>\n",
       "    </tr>\n",
       "    <tr>\n",
       "      <th>75%</th>\n",
       "      <td>6104.729358</td>\n",
       "      <td>1.000000</td>\n",
       "    </tr>\n",
       "    <tr>\n",
       "      <th>max</th>\n",
       "      <td>19908.018873</td>\n",
       "      <td>3.000000</td>\n",
       "    </tr>\n",
       "  </tbody>\n",
       "</table>\n",
       "</div>"
      ],
      "text/plain": [
       "       Reconstruction_error  True_class\n",
       "count            550.000000  550.000000\n",
       "mean            5558.341198    1.181818\n",
       "std             1291.008263    0.575483\n",
       "min             3475.825925    1.000000\n",
       "25%             4794.759911    1.000000\n",
       "50%             5474.332072    1.000000\n",
       "75%             6104.729358    1.000000\n",
       "max            19908.018873    3.000000"
      ]
     },
     "execution_count": 234,
     "metadata": {
      "tags": []
     },
     "output_type": "execute_result"
    }
   ],
   "source": [
    "test_x_predictions = autoencoder.predict(test_x)\n",
    "mse = np.mean(np.power(test_x - test_x_predictions, 2), axis=1)\n",
    "error_df = pd.DataFrame({'Reconstruction_error': mse,\n",
    "                        'True_class': test_y})\n",
    "error_df.describe()"
   ]
  },
  {
   "cell_type": "code",
   "execution_count": 237,
   "metadata": {
    "colab": {
     "base_uri": "https://localhost:8080/",
     "height": 730
    },
    "colab_type": "code",
    "id": "EVprrBSYceMg",
    "outputId": "e127ae7d-8d56-4903-df2a-7e9597689898"
   },
   "outputs": [
    {
     "data": {
      "image/png": "[encoded data removed]",
      "text/plain": [
       "<Figure size 864x864 with 2 Axes>"
      ]
     },
     "metadata": {
      "needs_background": "light",
      "tags": []
     },
     "output_type": "display_data"
    }
   ],
   "source": [
    "from sklearn.metrics import confusion_matrix\n",
    "import seaborn as sns\n",
    "LABELS = [\"class1\",\"class3\"]\n",
    "threshold_fixed = 4000\n",
    "pred_y = [1.0 if e > threshold_fixed else 3.0 for e in error_df.Reconstruction_error.values]\n",
    "conf_matrix = confusion_matrix(error_df.True_class, pred_y)\n",
    "\n",
    "plt.figure(figsize=(12, 12))\n",
    "sns.heatmap(conf_matrix, xticklabels=LABELS, yticklabels=LABELS, annot=True, fmt=\"d\");\n",
    "plt.title(\"Confusion matrix\")\n",
    "plt.ylabel('True class')\n",
    "plt.xlabel('Predicted class')\n",
    "plt.show()"
   ]
  },
  {
   "cell_type": "code",
   "execution_count": 247,
   "metadata": {
    "colab": {
     "base_uri": "https://localhost:8080/",
     "height": 170
    },
    "colab_type": "code",
    "id": "e_PJTGeSr0UL",
    "outputId": "f55a85fe-4905-46dc-82e1-3035d7baa74c"
   },
   "outputs": [
    {
     "name": "stdout",
     "output_type": "stream",
     "text": [
      "              precision    recall  f1-score   support\n",
      "\n",
      "         1.0       0.92      0.98      0.95       500\n",
      "         3.0       0.41      0.14      0.21        50\n",
      "\n",
      "    accuracy                           0.90       550\n",
      "   macro avg       0.67      0.56      0.58       550\n",
      "weighted avg       0.87      0.90      0.88       550\n",
      "\n"
     ]
    }
   ],
   "source": [
    "print(classification_report(test_y,pred_y))"
   ]
  }
 ],
 "metadata": {
  "colab": {
   "authorship_tag": "ABX9TyODdLEG7dQU8avVkJ5m6fyE",
   "include_colab_link": true,
   "name": "Encoder and Decoder.ipynb",
   "provenance": []
  },
  "kernelspec": {
   "display_name": "Python 3 (ipykernel)",
   "language": "python",
   "name": "python3"
  },
  "language_info": {
   "codemirror_mode": {
    "name": "ipython",
    "version": 3
   },
   "file_extension": ".py",
   "mimetype": "text/x-python",
   "name": "python",
   "nbconvert_exporter": "python",
   "pygments_lexer": "ipython3",
   "version": "3.9.5"
  }
 },
 "nbformat": 4,
 "nbformat_minor": 4
}
